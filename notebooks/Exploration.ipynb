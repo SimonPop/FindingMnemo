{
 "cells": [
  {
   "cell_type": "code",
   "execution_count": 1,
   "metadata": {},
   "outputs": [],
   "source": [
    "from dragonmapper import hanzi\n",
    "from dragonmapper import transcriptions\n",
    "import eng_to_ipa as ipa\n",
    "import panphon.distance\n",
    "from corpus_creator import CorpusCreator\n",
    "from WordGraph import WordGraph\n",
    "import wikipediaapi\n",
    "\n",
    "# cc = CorpusCreator()\n",
    "# cc.create_corpus('Gawr_Gura')\n",
    "        \n",
    "with open(\"corpus_Gawr_Gura.txt\", encoding='utf-8') as f:\n",
    "    text = f.read()\n",
    "wg = WordGraph(corpus=text, state_size=2)"
   ]
  },
  {
   "cell_type": "code",
   "execution_count": 2,
   "metadata": {},
   "outputs": [
    {
     "name": "stdout",
     "output_type": "stream",
     "text": [
      "([('___BEGIN__', '___BEGIN__'), ('___BEGIN__', 'Only')], [('___BEGIN__', 'Only'), ('Only', 'forty'), ('forty', 'days'), ('days', 'after'), ('after', 'her'), ('her', 'debut,'), ('debut,', 'she'), ('she', 'had'), ('had', 'reached'), ('reached', 'one')], [('reached', 'one'), ('one', 'million'), ('million', 'subscribers,'), ('subscribers,', 'and'), ('and', 'subsequently'), ('subsequently', '4'), ('4', 'million'), ('million', 'subscribers.'), '__END__'])\n"
     ]
    }
   ],
   "source": [
    "print(wg.find_path(['Only', 'one']))"
   ]
  },
  {
   "cell_type": "code",
   "execution_count": 4,
   "metadata": {},
   "outputs": [],
   "source": [
    "from ipapy import UNICODE_TO_IPA\n",
    "vocabulary = UNICODE_TO_IPA.keys()"
   ]
  },
  {
   "cell_type": "code",
   "execution_count": 4,
   "metadata": {},
   "outputs": [
    {
     "name": "stderr",
     "output_type": "stream",
     "text": [
      "No model was supplied, defaulted to distilroberta-base and revision ec58a5b (https://huggingface.co/distilroberta-base).\n",
      "Using a pipeline without specifying a model name and revision in production is not recommended.\n"
     ]
    }
   ],
   "source": [
    "from transformers import pipeline\n",
    "\n",
    "classifier = pipeline(\"fill-mask\")\n",
    "result = classifier(\"<mask> is the <mask> of France.\")\n",
    "\n",
    "for a, b in zip(*result):\n",
    "    print(a, b)"
   ]
  },
  {
   "cell_type": "code",
   "execution_count": 2,
   "metadata": {},
   "outputs": [
    {
     "name": "stderr",
     "output_type": "stream",
     "text": [
      "100%|██████████| 202/202 [00:00<00:00, 731.16it/s]\n"
     ]
    },
    {
     "name": "stdout",
     "output_type": "stream",
     "text": [
      "Only\n"
     ]
    },
    {
     "name": "stderr",
     "output_type": "stream",
     "text": [
      "135it [00:00, 15040.54it/s]"
     ]
    },
    {
     "name": "stdout",
     "output_type": "stream",
     "text": [
      "[('___BEGIN__', '___BEGIN__'), ('___BEGIN__', 'Only'), ('Only', 'forty'), ('forty', 'days'), ('days', 'after'), ('after', 'her'), ('her', 'debut,'), ('debut,', 'she'), ('she', 'had'), ('had', 'reached'), ('reached', 'one'), ('one', 'million'), ('million', 'subscribers,'), ('subscribers,', 'and'), ('and', 'subsequently'), ('subsequently', '4'), ('4', 'million'), ('million', 'subscribers.'), '__END__']\n"
     ]
    },
    {
     "name": "stderr",
     "output_type": "stream",
     "text": [
      "\n"
     ]
    }
   ],
   "source": [
    "print(wg.find_closest_word('píng guǒ'))\n",
    "print(wg.find_path(['Only', 'one']))"
   ]
  },
  {
   "cell_type": "code",
   "execution_count": 2,
   "metadata": {},
   "outputs": [
    {
     "data": {
      "text/plain": [
       "'ʂan˥ y˥˩'"
      ]
     },
     "execution_count": 2,
     "metadata": {},
     "output_type": "execute_result"
    }
   ],
   "source": [
    "transcriptions.pinyin_to_ipa('shān yù')"
   ]
  },
  {
   "cell_type": "code",
   "execution_count": 15,
   "metadata": {},
   "outputs": [
    {
     "data": {
      "text/plain": [
       "'fɑr'"
      ]
     },
     "execution_count": 15,
     "metadata": {},
     "output_type": "execute_result"
    }
   ],
   "source": [
    "s = 'fēijī' # 'féidà'\n",
    "transcriptions.pinyin_to_ipa('fēijī')\n",
    "ipa.convert(\"far\")"
   ]
  },
  {
   "cell_type": "code",
   "execution_count": 5,
   "metadata": {},
   "outputs": [],
   "source": [
    "w1 = u'feɪ˧˥ ta˥'\n",
    "w2 = u'feta*'\n",
    "w3 = u'pəˈteɪˌtoʊ'\n",
    "w4 = u'feɪ˥ tɕi˥'"
   ]
  },
  {
   "cell_type": "code",
   "execution_count": 4,
   "metadata": {},
   "outputs": [
    {
     "data": {
      "text/plain": [
       "'PVVTV'"
      ]
     },
     "execution_count": 4,
     "metadata": {},
     "output_type": "execute_result"
    }
   ],
   "source": [
    "dst = panphon.distance.Distance()\n",
    "# dolgo_prime_distance_div_maxlen\n",
    "#  weighted_feature_edit_distance_div_maxlen\n",
    "# jt_weighted_feature_edit_distance\n",
    "dst.map_to_dolgo_prime('feɪ˧˥ ta˥')"
   ]
  },
  {
   "cell_type": "code",
   "execution_count": 16,
   "metadata": {},
   "outputs": [
    {
     "name": "stdout",
     "output_type": "stream",
     "text": [
      "feɪ˧˥ ta˥ feta* 4\n",
      "feɪ˧˥ ta˥ feta* 0.6666666666666666\n",
      "feɪ˧˥ ta˥ feta* 5.1875\n",
      "feɪ˧˥ ta˥ feta* 13.9375\n"
     ]
    }
   ],
   "source": [
    "print(w1, w2, dst.dolgo_prime_distance('feɪ˥ tɕi˥', 'fɑr'))\n",
    "print(w1, w2, dst.dolgo_prime_distance_div_maxlen('feɪ˥ tɕi˥', 'fɑr'))\n",
    "print(w1, w2, dst.weighted_feature_edit_distance_div_maxlen('feɪ˥ tɕi˥', 'fɑr'))\n",
    "print(w1, w2, dst.jt_weighted_feature_edit_distance('feɪ˥ tɕi˥', 'fɑr'))\n"
   ]
  },
  {
   "cell_type": "code",
   "execution_count": 28,
   "metadata": {},
   "outputs": [
    {
     "name": "stdout",
     "output_type": "stream",
     "text": [
      "feɪ˧˥ ta˥ feta* 1\n",
      "feɪ˧˥ ta˥ pəˈteɪˌtoʊ 3\n",
      "pəˈteɪˌtoʊ feta* 4\n",
      "feɪ˥ tɕi˥ feɪ˧˥ ta˥ 1\n",
      "feɪ˥ tɕi˥ feta* 2\n",
      "feɪ˥ tɕi˥ pəˈteɪˌtoʊ 3\n"
     ]
    }
   ],
   "source": [
    "dst = panphon.distance.Distance()\n",
    "print(w1, w2, dst.dolgo_prime_distance(w1, w2))\n",
    "print(w1, w3, dst.dolgo_prime_distance(w1, w3))\n",
    "print(w3, w2, dst.dolgo_prime_distance(w3, w2))\n",
    "print(w4, w1, dst.dolgo_prime_distance(w4, w1))\n",
    "print(w4, w2, dst.dolgo_prime_distance(w4, w2))\n",
    "print(w4, w3, dst.dolgo_prime_distance(w4, w3))\n"
   ]
  },
  {
   "cell_type": "code",
   "execution_count": 16,
   "metadata": {},
   "outputs": [],
   "source": []
  },
  {
   "cell_type": "code",
   "execution_count": 6,
   "metadata": {},
   "outputs": [
    {
     "name": "stderr",
     "output_type": "stream",
     "text": [
      "100%|██████████| 933/933 [00:00<00:00, 1296.51it/s]\n"
     ]
    },
    {
     "data": {
      "text/plain": [
       "'very'"
      ]
     },
     "execution_count": 6,
     "metadata": {},
     "output_type": "execute_result"
    }
   ],
   "source": []
  },
  {
   "cell_type": "code",
   "execution_count": 22,
   "metadata": {},
   "outputs": [
    {
     "name": "stderr",
     "output_type": "stream",
     "text": [
      "1273it [00:00, 41177.39it/s]\n"
     ]
    }
   ],
   "source": []
  },
  {
   "cell_type": "markdown",
   "metadata": {},
   "source": [
    "# Steps:\n",
    "\n",
    "0. Create markov chain model\n",
    "0b. Extract graph from markov chain model\n",
    "1. Get word to translate.\n",
    "2. Translate word.\n",
    "3. Get keys of the word / Get similar sounding word.\n",
    "4. Find path shortes path that does through different words.\n",
    "5. Create image based on text."
   ]
  },
  {
   "cell_type": "code",
   "execution_count": null,
   "metadata": {},
   "outputs": [],
   "source": [
    "\n"
   ]
  },
  {
   "cell_type": "code",
   "execution_count": null,
   "metadata": {},
   "outputs": [],
   "source": []
  },
  {
   "cell_type": "code",
   "execution_count": 14,
   "metadata": {},
   "outputs": [
    {
     "data": {
      "text/plain": [
       "array([[-1, -1,  1],\n",
       "       [ 1,  1,  1],\n",
       "       [-1, -1, -1],\n",
       "       [ 1,  1,  1]])"
      ]
     },
     "execution_count": 14,
     "metadata": {},
     "output_type": "execute_result"
    }
   ],
   "source": [
    "import panphon\n",
    "import numpy as np\n",
    "ft = panphon.FeatureTable()\n",
    "\n",
    "ft.word_array(['syl', 'son', 'cont'], u'feta*')\n",
    "ft.word_array(['syl', 'son', 'cont'], u'feɪ˧˥ ta˥')\n",
    "np.array(ft.word_to_vector_list(u'feta*', numeric=True))\n",
    "np.array(ft.word_to_vector_list(u'feɪ˧˥ ta˥˩', numeric=True))"
   ]
  },
  {
   "cell_type": "code",
   "execution_count": 16,
   "metadata": {},
   "outputs": [],
   "source": [
    "from dragonmapper import hanzi\n",
    "from dragonmapper import transcriptions\n",
    "import eng_to_ipa as ipa\n",
    "import panphon.distance\n",
    "from corpus_creator import CorpusCreator\n",
    "from WordGraph import WordGraph\n",
    "import wikipediaapi\n",
    "import numpy as np\n",
    "from tqdm import tqdm"
   ]
  },
  {
   "cell_type": "code",
   "execution_count": 23,
   "metadata": {},
   "outputs": [],
   "source": [
    "word_1 = \"COFFEE\"\n",
    "word_2 = \"咖啡\" # KĀ FĒI\n",
    "word_3 = \"focus\""
   ]
  },
  {
   "cell_type": "code",
   "execution_count": 24,
   "metadata": {},
   "outputs": [],
   "source": [
    "ipa_2 = hanzi.to_ipa(word_2)\n",
    "ipa_1 = ipa.convert(word_1)\n",
    "ipa_3 = ipa.convert(word_3)"
   ]
  },
  {
   "cell_type": "code",
   "execution_count": 29,
   "metadata": {},
   "outputs": [],
   "source": [
    "ft = panphon.FeatureTable()\n",
    "dst = panphon.distance.Distance()"
   ]
  },
  {
   "cell_type": "code",
   "execution_count": 31,
   "metadata": {},
   "outputs": [
    {
     "name": "stdout",
     "output_type": "stream",
     "text": [
      "1\n",
      "4\n"
     ]
    }
   ],
   "source": [
    "print(dst.dolgo_prime_distance(ipa_2, ipa_1))\n",
    "print(dst.dolgo_prime_distance(ipa_2, ipa_3))"
   ]
  },
  {
   "cell_type": "code",
   "execution_count": 67,
   "metadata": {},
   "outputs": [],
   "source": [
    "import pandas as pd\n",
    "hsk_1 = pd.read_csv('../data/hsk1.csv', header=None)\n",
    "hsk_3 = pd.read_csv('../data/hsk3.csv', header=None)\n",
    "hsk_4 = pd.read_csv('../data/hsk4.csv', header=None)\n",
    "hsk_2 = pd.read_csv('../data/hsk2.csv', header=None)\n",
    "hsk_5 = pd.read_csv('../data/hsk5.csv', header=None)\n",
    "hsk_6 = pd.read_csv('../data/hsk6.csv', header=None)\n",
    "pd.concat([hsk_1, hsk_2, hsk_3, hsk_4, hsk_5, hsk_6], ignore_index=True).rename(columns={0: 'hanzi', 1: 'pinyin', 2: 'translation'}).to_csv('../data/hsk_full.csv')"
   ]
  },
  {
   "cell_type": "code",
   "execution_count": 100,
   "metadata": {},
   "outputs": [],
   "source": [
    "english_corpus = pd.read_csv('../data/english_corpus.txt', sep=' ', header=None).rename(columns={0:\"word\", 1:\"occurences\"})\n",
    "# Filter: ...\n",
    "english_corpus = english_corpus[english_corpus['word'].str.len() > 4]\n",
    "# Filter: ...\n",
    "english_corpus = english_corpus[english_corpus['occurences'] > 5000]\n",
    "# Add IPA\n",
    "english_corpus['ipa'] = english_corpus['word'].apply(ipa.convert)\n",
    "# Filter non recognized\n",
    "english_corpus['valid_ipa'] = -english_corpus['ipa'].str.endswith('*')"
   ]
  },
  {
   "cell_type": "code",
   "execution_count": 123,
   "metadata": {},
   "outputs": [],
   "source": [
    "hsk_full['valid_ipa'] = hsk_full['ipa'].apply(lambda x: not x is None)"
   ]
  },
  {
   "cell_type": "code",
   "execution_count": 125,
   "metadata": {},
   "outputs": [],
   "source": [
    "hsk_full.to_csv('../data/clean_zh_corpus.csv')"
   ]
  },
  {
   "cell_type": "code",
   "execution_count": 111,
   "metadata": {},
   "outputs": [],
   "source": [
    "def try_ipa(x: str):\n",
    "    try:\n",
    "        return hanzi.to_ipa(x)\n",
    "    except:\n",
    "        return None\n",
    "\n",
    "hsk_full = pd.read_csv('../data/hsk_full.csv')\n",
    "hsk_full['ipa'] = hsk_full['hanzi'].apply(try_ipa)"
   ]
  },
  {
   "cell_type": "code",
   "execution_count": 120,
   "metadata": {},
   "outputs": [
    {
     "name": "stderr",
     "output_type": "stream",
     "text": [
      "Finding closest word for ài: 100%|██████████| 5/5 [00:00<00:00, 985.83it/s]\n",
      "Finding closest word for bā: 100%|██████████| 5/5 [00:00<00:00, 1004.48it/s]\n",
      "Finding closest word for bà ba: 100%|██████████| 5/5 [00:00<00:00, 715.95it/s]\n",
      "Finding closest word for bēi zi: 100%|██████████| 5/5 [00:00<00:00, 716.36it/s]\n",
      "Finding closest word for Běi jīng: 100%|██████████| 5/5 [00:00<00:00, 557.41it/s]\n",
      "Finding closest word for běn: 100%|██████████| 5/5 [00:00<00:00, 714.00it/s]\n",
      "Finding closest word for bù kè qi: 100%|██████████| 5/5 [00:00<00:00, 417.75it/s]\n",
      "Finding closest word for bù: 100%|██████████| 5/5 [00:00<00:00, 716.14it/s]\n",
      "Finding closest word for cài: 100%|██████████| 5/5 [00:00<00:00, 455.66it/s]\n",
      "Finding closest word for chá: 100%|██████████| 5/5 [00:00<00:00, 557.87it/s]\n",
      "Finding closest word for chī: 100%|██████████| 5/5 [00:00<00:00, 626.73it/s]\n",
      "Finding closest word for chū zū chē: 100%|██████████| 5/5 [00:00<00:00, 501.32it/s]\n",
      "Finding closest word for dǎ diàn huà: 100%|██████████| 5/5 [00:00<00:00, 385.68it/s]\n",
      "Finding closest word for dà: 100%|██████████| 5/5 [00:00<00:00, 1002.37it/s]\n",
      "Finding closest word for de: 100%|██████████| 5/5 [00:00<00:00, 835.35it/s]\n",
      "Finding closest word for diǎn: 100%|██████████| 5/5 [00:00<00:00, 626.76it/s]\n",
      "Finding closest word for diàn nǎo: 100%|██████████| 5/5 [00:00<00:00, 418.32it/s]\n",
      "Finding closest word for diàn shì: 100%|██████████| 5/5 [00:00<00:00, 417.75it/s]\n",
      "Finding closest word for diàn yǐng: 100%|██████████| 5/5 [00:00<00:00, 626.67it/s]\n",
      "Finding closest word for dōng xi: 100%|██████████| 5/5 [00:00<00:00, 455.77it/s]\n",
      "Finding closest word for dōu: 100%|██████████| 5/5 [00:00<00:00, 501.33it/s]\n",
      "Finding closest word for dú: 100%|██████████| 5/5 [00:00<00:00, 501.29it/s]\n",
      "Finding closest word for duì bu qǐ: 100%|██████████| 5/5 [00:00<00:00, 358.62it/s]\n",
      "Finding closest word for duō: 100%|██████████| 5/5 [00:00<00:00, 626.28it/s]\n",
      "Finding closest word for duō shao: 100%|██████████| 5/5 [00:00<00:00, 358.28it/s]\n",
      "Finding closest word for ér zi: 100%|██████████| 5/5 [00:00<00:00, 385.63it/s]\n",
      "Finding closest word for èr: 100%|██████████| 5/5 [00:00<00:00, 628.36it/s]\n",
      "Finding closest word for fàn guǎn: 100%|██████████| 5/5 [00:00<00:00, 334.51it/s]\n",
      "Finding closest word for fēi jī: 100%|██████████| 5/5 [00:00<00:00, 417.79it/s]\n",
      "Finding closest word for fēn zhōng: 100%|██████████| 5/5 [00:00<00:00, 417.98it/s]\n",
      "Finding closest word for gāo xìng: 100%|██████████| 5/5 [00:00<00:00, 626.46it/s]\n",
      "Finding closest word for gè: 100%|██████████| 5/5 [00:00<00:00, 835.25it/s]\n",
      "Finding closest word for gōng zuò: 100%|██████████| 5/5 [00:00<00:00, 626.69it/s]\n",
      "Finding closest word for gǒu: 100%|██████████| 5/5 [00:00<00:00, 556.61it/s]\n",
      "Finding closest word for Hàn yǔ: 100%|██████████| 5/5 [00:00<00:00, 501.29it/s]\n",
      "Finding closest word for hǎo: 100%|██████████| 5/5 [00:00<00:00, 716.12it/s]\n",
      "Finding closest word for hē: 100%|██████████| 5/5 [00:00<00:00, 835.35it/s]\n",
      "Finding closest word for hé: 100%|██████████| 5/5 [00:00<00:00, 835.69it/s]\n",
      "Finding closest word for hěn: 100%|██████████| 5/5 [00:00<00:00, 836.32it/s]\n",
      "Finding closest word for hòu mian: 100%|██████████| 5/5 [00:00<00:00, 385.42it/s]\n",
      "Finding closest word for huí: 100%|██████████| 5/5 [00:00<00:00, 837.09it/s]\n",
      "Finding closest word for huì: 100%|██████████| 5/5 [00:00<00:00, 716.14it/s]\n",
      "Finding closest word for huǒ chē zhàn: 100%|██████████| 5/5 [00:00<00:00, 385.59it/s]\n",
      "Finding closest word for jǐ: 100%|██████████| 5/5 [00:00<00:00, 556.63it/s]\n",
      "Finding closest word for jiā: 100%|██████████| 5/5 [00:00<00:00, 1008.10it/s]\n",
      "Finding closest word for jiào: 100%|██████████| 5/5 [00:00<00:00, 556.91it/s]\n",
      "Finding closest word for jīn tiān: 100%|██████████| 5/5 [00:00<00:00, 501.39it/s]\n",
      "Finding closest word for jiǔ: 100%|██████████| 5/5 [00:00<00:00, 501.29it/s]\n",
      "Finding closest word for kāi: 100%|██████████| 5/5 [00:00<00:00, 835.42it/s]\n",
      "Finding closest word for kàn: 100%|██████████| 5/5 [00:00<00:00, 717.96it/s]\n",
      "Finding closest word for kàn jiàn: 100%|██████████| 5/5 [00:00<00:00, 557.03it/s]\n",
      "Finding closest word for kuài: 100%|██████████| 5/5 [00:00<00:00, 835.42it/s]\n",
      "Finding closest word for lái: 100%|██████████| 5/5 [00:00<00:00, 1003.18it/s]\n",
      "Finding closest word for lǎo shī: 100%|██████████| 5/5 [00:00<00:00, 557.04it/s]\n",
      "Finding closest word for le: 100%|██████████| 5/5 [00:00<00:00, 1002.89it/s]\n",
      "Finding closest word for lěng: 100%|██████████| 5/5 [00:00<00:00, 716.00it/s]\n",
      "Finding closest word for lǐ: 100%|██████████| 5/5 [00:00<00:00, 1002.80it/s]\n",
      "Finding closest word for líng: 100%|██████████| 5/5 [00:00<00:00, 1002.56it/s]\n",
      "Finding closest word for liù: 100%|██████████| 5/5 [00:00<00:00, 1002.75it/s]\n",
      "Finding closest word for mā ma: 100%|██████████| 5/5 [00:00<00:00, 1002.27it/s]\n",
      "Finding closest word for ma: 100%|██████████| 5/5 [00:00<00:00, 1254.13it/s]\n",
      "Finding closest word for mǎi: 100%|██████████| 5/5 [00:00<00:00, 835.45it/s]\n",
      "Finding closest word for māo: 100%|██████████| 5/5 [00:00<00:00, 1002.37it/s]\n",
      "Finding closest word for méi: 100%|██████████| 5/5 [00:00<00:00, 626.54it/s]\n",
      "Finding closest word for méi guān xi: 100%|██████████| 5/5 [00:00<00:00, 395.79it/s]\n",
      "Finding closest word for mǐ fàn: 100%|██████████| 5/5 [00:00<00:00, 217.95it/s]\n",
      "Finding closest word for míng tiān: 100%|██████████| 5/5 [00:00<00:00, 417.83it/s]\n",
      "Finding closest word for míng zi: 100%|██████████| 5/5 [00:00<00:00, 555.46it/s]\n",
      "Finding closest word for nǎ: 100%|██████████| 5/5 [00:00<00:00, 717.29it/s]\n",
      "Finding closest word for nà: 100%|██████████| 5/5 [00:00<00:00, 501.34it/s]\n",
      "Finding closest word for ne: 100%|██████████| 5/5 [00:00<00:00, 1002.61it/s]\n",
      "Finding closest word for néng: 100%|██████████| 5/5 [00:00<00:00, 716.36it/s]\n",
      "Finding closest word for nǐ: 100%|██████████| 5/5 [00:00<00:00, 716.04it/s]\n",
      "Finding closest word for nián: 100%|██████████| 5/5 [00:00<00:00, 716.19it/s]\n",
      "Finding closest word for nǚ ér: 100%|██████████| 5/5 [00:00<00:00, 501.21it/s]\n",
      "Finding closest word for péng you: 100%|██████████| 5/5 [00:00<00:00, 716.19it/s]\n",
      "Finding closest word for piào liang: 100%|██████████| 5/5 [00:00<00:00, 417.78it/s]\n",
      "Finding closest word for píng guǒ: 100%|██████████| 5/5 [00:00<00:00, 455.68it/s]\n",
      "Finding closest word for qī: 100%|██████████| 5/5 [00:00<00:00, 716.07it/s]\n",
      "Finding closest word for qián: 100%|██████████| 5/5 [00:00<00:00, 626.73it/s]\n",
      "Finding closest word for qián miàn: 100%|██████████| 5/5 [00:00<00:00, 556.95it/s]\n",
      "Finding closest word for qǐng: 100%|██████████| 5/5 [00:00<00:00, 626.46it/s]\n",
      "Finding closest word for qù: 100%|██████████| 5/5 [00:00<00:00, 556.92it/s]\n",
      "Finding closest word for rè: 100%|██████████| 5/5 [00:00<00:00, 626.82it/s]\n",
      "Finding closest word for rén: 100%|██████████| 5/5 [00:00<00:00, 627.44it/s]\n",
      "Finding closest word for rèn shi: 100%|██████████| 5/5 [00:00<00:00, 556.95it/s]\n",
      "Finding closest word for rì: 100%|██████████| 5/5 [00:00<00:00, 835.05it/s]\n",
      "Finding closest word for sān: 100%|██████████| 5/5 [00:00<00:00, 626.52it/s]\n",
      "Finding closest word for shāng diàn: 100%|██████████| 5/5 [00:00<00:00, 501.33it/s]\n",
      "Finding closest word for shàng: 100%|██████████| 5/5 [00:00<00:00, 717.49it/s]\n",
      "Finding closest word for shàng wǔ: 100%|██████████| 5/5 [00:00<00:00, 556.94it/s]\n",
      "Finding closest word for shǎo: 100%|██████████| 5/5 [00:00<00:00, 556.92it/s]\n",
      "Finding closest word for shéi: 100%|██████████| 5/5 [00:00<00:00, 557.07it/s]\n",
      "Finding closest word for shén me: 100%|██████████| 5/5 [00:00<00:00, 626.54it/s]\n",
      "Finding closest word for shí: 100%|██████████| 5/5 [00:00<00:00, 837.35it/s]\n",
      "Finding closest word for shí hou: 100%|██████████| 5/5 [00:00<00:00, 624.13it/s]\n",
      "Finding closest word for shì: 100%|██████████| 5/5 [00:00<00:00, 1002.56it/s]\n",
      "Finding closest word for shū: 100%|██████████| 5/5 [00:00<00:00, 1253.90it/s]\n",
      "Finding closest word for shuǐ: 100%|██████████| 5/5 [00:00<00:00, 716.14it/s]\n",
      "Finding closest word for shuǐ guǒ: 100%|██████████| 5/5 [00:00<00:00, 556.97it/s]\n",
      "Finding closest word for shuì jiào: 100%|██████████| 5/5 [00:00<00:00, 626.75it/s]\n",
      "Finding closest word for shuō huà: 100%|██████████| 5/5 [00:00<00:00, 626.65it/s]\n",
      "Finding closest word for sì: 100%|██████████| 5/5 [00:00<00:00, 835.72it/s]\n",
      "Finding closest word for suì: 100%|██████████| 5/5 [00:00<00:00, 626.35it/s]\n",
      "Finding closest word for tā: 100%|██████████| 5/5 [00:00<00:00, 1001.51it/s]\n",
      "Finding closest word for tā: 100%|██████████| 5/5 [00:00<00:00, 834.32it/s]\n",
      "Finding closest word for tài: 100%|██████████| 5/5 [00:00<00:00, 715.80it/s]\n",
      "Finding closest word for tiān qì: 100%|██████████| 5/5 [00:00<00:00, 385.53it/s]\n",
      "Finding closest word for tīng: 100%|██████████| 5/5 [00:00<00:00, 831.77it/s]\n",
      "Finding closest word for tóng xué: 100%|██████████| 5/5 [00:00<00:00, 417.91it/s]\n",
      "Finding closest word for wèi: 100%|██████████| 5/5 [00:00<00:00, 557.13it/s]\n",
      "Finding closest word for wǒ: 100%|██████████| 5/5 [00:00<00:00, 417.78it/s]\n",
      "Finding closest word for wǒ men: 100%|██████████| 5/5 [00:00<00:00, 499.69it/s]\n",
      "Finding closest word for wǔ: 100%|██████████| 5/5 [00:00<00:00, 626.54it/s]\n",
      "Finding closest word for xǐ huan: 100%|██████████| 5/5 [00:00<00:00, 501.34it/s]\n",
      "Finding closest word for xià: 100%|██████████| 5/5 [00:00<00:00, 455.69it/s]\n",
      "Finding closest word for xià wǔ: 100%|██████████| 5/5 [00:00<00:00, 455.79it/s]\n",
      "Finding closest word for xià yǔ: 100%|██████████| 5/5 [00:00<00:00, 626.45it/s]\n",
      "Finding closest word for xiān sheng: 100%|██████████| 5/5 [00:00<00:00, 626.52it/s]\n",
      "Finding closest word for xiàn zài: 100%|██████████| 5/5 [00:00<00:00, 626.73it/s]\n",
      "Finding closest word for xiǎng: 100%|██████████| 5/5 [00:00<00:00, 715.92it/s]\n",
      "Finding closest word for xiǎo: 100%|██████████| 5/5 [00:00<00:00, 501.42it/s]\n",
      "Finding closest word for xiǎo jie: 100%|██████████| 5/5 [00:00<00:00, 455.79it/s]\n",
      "Finding closest word for xiē: 100%|██████████| 5/5 [00:00<00:00, 1002.61it/s]\n",
      "Finding closest word for xiě: 100%|██████████| 5/5 [00:00<00:00, 835.49it/s]\n",
      "Finding closest word for xiè xie: 100%|██████████| 5/5 [00:00<00:00, 716.02it/s]\n",
      "Finding closest word for xīng qī: 100%|██████████| 5/5 [00:00<00:00, 835.49it/s]\n",
      "Finding closest word for xué sheng: 100%|██████████| 5/5 [00:00<00:00, 626.69it/s]\n",
      "Finding closest word for xué xí: 100%|██████████| 5/5 [00:00<00:00, 626.50it/s]\n",
      "Finding closest word for xué xiào: 100%|██████████| 5/5 [00:00<00:00, 385.59it/s]\n",
      "Finding closest word for yī: 100%|██████████| 5/5 [00:00<00:00, 716.17it/s]\n",
      "Finding closest word for yī fu: 100%|██████████| 5/5 [00:00<00:00, 557.38it/s]\n",
      "Finding closest word for yī shēng: 100%|██████████| 5/5 [00:00<00:00, 455.38it/s]\n",
      "Finding closest word for yī yuàn: 100%|██████████| 5/5 [00:00<00:00, 417.71it/s]\n",
      "Finding closest word for yǐ zi: 100%|██████████| 5/5 [00:00<00:00, 501.16it/s]\n",
      "Finding closest word for yǒu: 100%|██████████| 5/5 [00:00<00:00, 557.10it/s]\n",
      "Finding closest word for yuè: 100%|██████████| 5/5 [00:00<00:00, 831.48it/s]\n",
      "Finding closest word for zài: 100%|██████████| 5/5 [00:00<00:00, 835.62it/s]\n",
      "Finding closest word for zài jiàn: 100%|██████████| 5/5 [00:00<00:00, 557.04it/s]\n",
      "Finding closest word for zěn me: 100%|██████████| 5/5 [00:00<00:00, 835.49it/s]\n",
      "Finding closest word for zěn me yàng: 100%|██████████| 5/5 [00:00<00:00, 626.61it/s]\n",
      "Finding closest word for zhè: 100%|██████████| 5/5 [00:00<00:00, 1002.37it/s]\n",
      "Finding closest word for Zhōng guó: 100%|██████████| 5/5 [00:00<00:00, 716.68it/s]\n",
      "Finding closest word for zhōng wǔ: 100%|██████████| 5/5 [00:00<00:00, 835.49it/s]\n",
      "Finding closest word for zhù: 100%|██████████| 5/5 [00:00<00:00, 1002.61it/s]\n",
      "Finding closest word for zhuō zi: 100%|██████████| 5/5 [00:00<00:00, 626.60it/s]\n",
      "Finding closest word for zì: 100%|██████████| 5/5 [00:00<00:00, 1002.65it/s]\n",
      "Finding closest word for zuó tiān: 100%|██████████| 5/5 [00:00<00:00, 501.84it/s]\n",
      "Finding closest word for zuò: 100%|██████████| 5/5 [00:00<00:00, 1002.75it/s]\n",
      "Finding closest word for zuò: 100%|██████████| 5/5 [00:00<00:00, 835.55it/s]\n",
      "Finding closest word for ba: 100%|██████████| 5/5 [00:00<00:00, 1253.23it/s]\n",
      "Finding closest word for bái: 100%|██████████| 5/5 [00:00<00:00, 835.39it/s]\n",
      "Finding closest word for bǎi: 100%|██████████| 5/5 [00:00<00:00, 835.29it/s]\n",
      "Finding closest word for bāng zhù: 100%|██████████| 5/5 [00:00<00:00, 455.74it/s]\n",
      "Finding closest word for bào zhǐ: 100%|██████████| 5/5 [00:00<00:00, 417.80it/s]\n",
      "Finding closest word for bǐ: 100%|██████████| 5/5 [00:00<00:00, 716.46it/s]\n",
      "Finding closest word for bié: 100%|██████████| 5/5 [00:00<00:00, 835.95it/s]\n",
      "Finding closest word for cháng: 100%|██████████| 5/5 [00:00<00:00, 626.54it/s]\n",
      "Finding closest word for chàng gē: 100%|██████████| 5/5 [00:00<00:00, 716.24it/s]\n",
      "Finding closest word for chū: 100%|██████████| 5/5 [00:00<00:00, 1002.56it/s]\n",
      "Finding closest word for chuān: 100%|██████████| 5/5 [00:00<00:00, 835.42it/s]\n",
      "Finding closest word for chuán: 100%|██████████| 5/5 [00:00<00:00, 626.65it/s]\n",
      "Finding closest word for cì: 100%|██████████| 5/5 [00:00<00:00, 719.06it/s]\n",
      "Finding closest word for cóng: 100%|██████████| 5/5 [00:00<00:00, 835.52it/s]\n",
      "Finding closest word for cuò: 100%|██████████| 5/5 [00:00<00:00, 716.19it/s]\n",
      "Finding closest word for dá lán qiú: 100%|██████████| 5/5 [00:00<00:00, 501.39it/s]\n",
      "Finding closest word for dà jiā: 100%|██████████| 5/5 [00:00<00:00, 715.92it/s]\n",
      "Finding closest word for dàn shì: 100%|██████████| 5/5 [00:00<00:00, 626.84it/s]\n",
      "Finding closest word for dào: 100%|██████████| 5/5 [00:00<00:00, 1002.32it/s]\n",
      "Finding closest word for de: 100%|██████████| 5/5 [00:00<00:00, 1002.08it/s]\n",
      "Finding closest word for děi: 100%|██████████| 5/5 [00:00<00:00, 1252.78it/s]\n",
      "Finding closest word for dì di: 100%|██████████| 5/5 [00:00<00:00, 716.24it/s]\n",
      "Finding closest word for dì yī: 100%|██████████| 5/5 [00:00<00:00, 837.19it/s]\n",
      "Finding closest word for dǒng: 100%|██████████| 5/5 [00:00<00:00, 1002.56it/s]\n",
      "Finding closest word for fáng jiān: 100%|██████████| 5/5 [00:00<00:00, 557.01it/s]\n",
      "Finding closest word for fēi cháng: 100%|██████████| 5/5 [00:00<00:00, 626.50it/s]\n",
      "Finding closest word for fú wù yuán: 100%|██████████| 5/5 [00:00<00:00, 557.01it/s]\n",
      "Finding closest word for gāo: 100%|██████████| 5/5 [00:00<00:00, 716.29it/s]\n",
      "Finding closest word for gào su: 100%|██████████| 5/5 [00:00<00:00, 716.14it/s]\n",
      "Finding closest word for gē ge: 100%|██████████| 5/5 [00:00<00:00, 1254.65it/s]\n",
      "Finding closest word for gěi: 100%|██████████| 5/5 [00:00<00:00, 626.65it/s]\n",
      "Finding closest word for gōng gòng qì chē: 100%|██████████| 5/5 [00:00<00:00, 456.14it/s]\n",
      "Finding closest word for gōng jīn: 100%|██████████| 5/5 [00:00<00:00, 716.26it/s]\n",
      "Finding closest word for gōng sī: 100%|██████████| 5/5 [00:00<00:00, 1002.08it/s]\n",
      "Finding closest word for guì: 100%|██████████| 5/5 [00:00<00:00, 1002.80it/s]\n",
      "Finding closest word for hái: 100%|██████████| 5/5 [00:00<00:00, 835.45it/s]\n",
      "Finding closest word for hái zi: 100%|██████████| 5/5 [00:00<00:00, 835.72it/s]\n",
      "Finding closest word for hǎo chī: 100%|██████████| 5/5 [00:00<00:00, 626.60it/s]\n",
      "Finding closest word for hào: 100%|██████████| 5/5 [00:00<00:00, 1253.15it/s]\n",
      "Finding closest word for hēi: 100%|██████████| 5/5 [00:00<00:00, 1253.15it/s]\n",
      "Finding closest word for hóng: 100%|██████████| 5/5 [00:00<00:00, 835.65it/s]\n",
      "Finding closest word for huān yíng: 100%|██████████| 5/5 [00:00<00:00, 626.46it/s]\n",
      "Finding closest word for huán: 100%|██████████| 5/5 [00:00<00:00, 898.75it/s]\n",
      "Finding closest word for huí dá: 100%|██████████| 5/5 [00:00<00:00, 715.95it/s]\n",
      "Finding closest word for jī chǎng: 100%|██████████| 5/5 [00:00<00:00, 626.61it/s]\n",
      "Finding closest word for jī dàn: 100%|██████████| 5/5 [00:00<00:00, 626.67it/s]\n",
      "Finding closest word for jiàn: 100%|██████████| 5/5 [00:00<00:00, 1002.51it/s]\n",
      "Finding closest word for jiào shì: 100%|██████████| 5/5 [00:00<00:00, 626.61it/s]\n",
      "Finding closest word for jiě jie: 100%|██████████| 5/5 [00:00<00:00, 716.14it/s]\n",
      "Finding closest word for jiè shào: 100%|██████████| 5/5 [00:00<00:00, 455.72it/s]\n",
      "Finding closest word for jìn: 100%|██████████| 5/5 [00:00<00:00, 1002.56it/s]\n",
      "Finding closest word for jìn: 100%|██████████| 5/5 [00:00<00:00, 836.02it/s]\n",
      "Finding closest word for jiù: 100%|██████████| 5/5 [00:00<00:00, 716.36it/s]\n",
      "Finding closest word for jué de: 100%|██████████| 5/5 [00:00<00:00, 835.52it/s]\n",
      "Finding closest word for kā fēi: 100%|██████████| 5/5 [00:00<00:00, 1002.37it/s]\n",
      "Finding closest word for kāi shǐ: 100%|██████████| 5/5 [00:00<00:00, 835.52it/s]\n",
      "Finding closest word for kǎo shì: 100%|██████████| 5/5 [00:00<00:00, 358.09it/s]\n",
      "Finding closest word for kě néng: 100%|██████████| 5/5 [00:00<00:00, 455.83it/s]\n",
      "Finding closest word for kě yǐ: 100%|██████████| 5/5 [00:00<00:00, 716.04it/s]\n",
      "Finding closest word for kè: 100%|██████████| 5/5 [00:00<00:00, 835.59it/s]\n",
      "Finding closest word for kuài: 100%|██████████| 5/5 [00:00<00:00, 626.67it/s]\n",
      "Finding closest word for kuài lè: 100%|██████████| 5/5 [00:00<00:00, 716.00it/s]\n",
      "Finding closest word for lèi: 100%|██████████| 5/5 [00:00<00:00, 716.14it/s]\n",
      "Finding closest word for lí: 100%|██████████| 5/5 [00:00<00:00, 835.22it/s]\n",
      "Finding closest word for liǎng: 100%|██████████| 5/5 [00:00<00:00, 716.22it/s]\n",
      "Finding closest word for lù: 100%|██████████| 5/5 [00:00<00:00, 835.75it/s]\n",
      "Finding closest word for lǚ yóu: 100%|██████████| 5/5 [00:00<00:00, 334.18it/s]\n",
      "Finding closest word for mài: 100%|██████████| 5/5 [00:00<00:00, 716.00it/s]\n",
      "Finding closest word for màn: 100%|██████████| 5/5 [00:00<00:00, 835.69it/s]\n",
      "Finding closest word for máng: 100%|██████████| 5/5 [00:00<00:00, 556.97it/s]\n",
      "Finding closest word for měi: 100%|██████████| 5/5 [00:00<00:00, 556.98it/s]\n",
      "Finding closest word for mèi mei: 100%|██████████| 5/5 [00:00<00:00, 501.33it/s]\n",
      "Finding closest word for mén: 100%|██████████| 5/5 [00:00<00:00, 835.39it/s]\n",
      "Finding closest word for nán rén: 100%|██████████| 5/5 [00:00<00:00, 417.98it/s]\n",
      "Finding closest word for nín: 100%|██████████| 5/5 [00:00<00:00, 835.29it/s]\n",
      "Finding closest word for niú nǎi: 100%|██████████| 5/5 [00:00<00:00, 417.78it/s]\n",
      "Finding closest word for nǚ rén: 100%|██████████| 5/5 [00:00<00:00, 716.63it/s]\n",
      "Finding closest word for páng biān: 100%|██████████| 5/5 [00:00<00:00, 417.77it/s]\n",
      "Finding closest word for pǎo bù: 100%|██████████| 5/5 [00:00<00:00, 501.90it/s]\n",
      "Finding closest word for pián yi: 100%|██████████| 5/5 [00:00<00:00, 501.65it/s]\n",
      "Finding closest word for piào: 100%|██████████| 5/5 [00:00<00:00, 557.06it/s]\n",
      "Finding closest word for qī zi: 100%|██████████| 5/5 [00:00<00:00, 417.79it/s]\n",
      "Finding closest word for qǐ chuáng: 100%|██████████| 5/5 [00:00<00:00, 455.72it/s]\n",
      "Finding closest word for qiān: 100%|██████████| 5/5 [00:00<00:00, 501.34it/s]\n",
      "Finding closest word for qíng: 100%|██████████| 5/5 [00:00<00:00, 500.98it/s]\n",
      "Finding closest word for qù nián: 100%|██████████| 5/5 [00:00<00:00, 278.50it/s]\n",
      "Finding closest word for ràng: 100%|██████████| 5/5 [00:00<00:00, 835.79it/s]\n",
      "Finding closest word for shàng bān: 100%|██████████| 5/5 [00:00<00:00, 835.55it/s]\n",
      "Finding closest word for shēn tǐ: 100%|██████████| 5/5 [00:00<00:00, 716.07it/s]\n",
      "Finding closest word for shēng bìng: 100%|██████████| 5/5 [00:00<00:00, 501.33it/s]\n",
      "Finding closest word for shēng rì: 100%|██████████| 5/5 [00:00<00:00, 716.00it/s]\n",
      "Finding closest word for shí jiān: 100%|██████████| 5/5 [00:00<00:00, 358.10it/s]\n",
      "Finding closest word for shì qing: 100%|██████████| 5/5 [00:00<00:00, 626.60it/s]\n",
      "Finding closest word for shǒu biǎo: 100%|██████████| 5/5 [00:00<00:00, 417.81it/s]\n",
      "Finding closest word for shǒu jī: 100%|██████████| 5/5 [00:00<00:00, 626.67it/s]\n",
      "Finding closest word for sòng: 100%|██████████| 5/5 [00:00<00:00, 1002.89it/s]\n",
      "Finding closest word for suǒ yǐ: 100%|██████████| 5/5 [00:00<00:00, 501.36it/s]\n",
      "Finding closest word for tā: 100%|██████████| 5/5 [00:00<00:00, 998.45it/s]\n",
      "Finding closest word for tī: 100%|██████████| 5/5 [00:00<00:00, 1254.43it/s]\n",
      "Finding closest word for tí: 100%|██████████| 5/5 [00:00<00:00, 835.25it/s]\n",
      "Finding closest word for tiào wǔ: 100%|██████████| 5/5 [00:00<00:00, 557.04it/s]\n",
      "Finding closest word for wài: 100%|██████████| 5/5 [00:00<00:00, 1002.08it/s]\n",
      "Finding closest word for wán: 100%|██████████| 5/5 [00:00<00:00, 716.07it/s]\n",
      "Finding closest word for wán: 100%|██████████| 5/5 [00:00<00:00, 835.59it/s]\n",
      "Finding closest word for wǎn shang: 100%|██████████| 5/5 [00:00<00:00, 556.88it/s]\n",
      "Finding closest word for wèi: 100%|██████████| 5/5 [00:00<00:00, 835.55it/s]\n",
      "Finding closest word for wèn: 100%|██████████| 5/5 [00:00<00:00, 835.52it/s]\n",
      "Finding closest word for wèn tí: 100%|██████████| 5/5 [00:00<00:00, 626.67it/s]\n",
      "Finding closest word for xī guā: 100%|██████████| 5/5 [00:00<00:00, 835.49it/s]\n",
      "Finding closest word for xī wàng: 100%|██████████| 5/5 [00:00<00:00, 716.22it/s]\n",
      "Finding closest word for xǐ: 100%|██████████| 5/5 [00:00<00:00, 835.29it/s]\n",
      "Finding closest word for xiàng: 100%|██████████| 5/5 [00:00<00:00, 835.52it/s]\n",
      "Finding closest word for xiǎo shí: 100%|██████████| 5/5 [00:00<00:00, 417.65it/s]\n",
      "Finding closest word for xiào: 100%|██████████| 5/5 [00:00<00:00, 556.92it/s]\n",
      "Finding closest word for xīn: 100%|██████████| 5/5 [00:00<00:00, 716.07it/s]\n",
      "Finding closest word for xìng: 100%|██████████| 5/5 [00:00<00:00, 1002.13it/s]\n",
      "Finding closest word for xiū xi: 100%|██████████| 5/5 [00:00<00:00, 1002.80it/s]\n",
      "Finding closest word for xuě: 100%|██████████| 5/5 [00:00<00:00, 835.49it/s]\n",
      "Finding closest word for yán sè: 100%|██████████| 5/5 [00:00<00:00, 835.45it/s]\n",
      "Finding closest word for yǎn jing: 100%|██████████| 5/5 [00:00<00:00, 716.36it/s]\n",
      "Finding closest word for yáng ròu: 100%|██████████| 5/5 [00:00<00:00, 557.09it/s]\n",
      "Finding closest word for yào: 100%|██████████| 5/5 [00:00<00:00, 835.35it/s]\n",
      "Finding closest word for yào: 100%|██████████| 5/5 [00:00<00:00, 837.69it/s]\n",
      "Finding closest word for yě: 100%|██████████| 5/5 [00:00<00:00, 717.24it/s]\n",
      "Finding closest word for yǐ jīng: 100%|██████████| 5/5 [00:00<00:00, 835.42it/s]\n",
      "Finding closest word for yī qǐ: 100%|██████████| 5/5 [00:00<00:00, 626.56it/s]"
     ]
    },
    {
     "ename": "KeyboardInterrupt",
     "evalue": "",
     "output_type": "error",
     "traceback": [
      "\u001b[1;31m---------------------------------------------------------------------------\u001b[0m",
      "\u001b[1;31mKeyboardInterrupt\u001b[0m                         Traceback (most recent call last)",
      "\u001b[1;32mc:\\Users\\simon\\Projets\\FindingMnemo\\src\\Exploration.ipynb Cellule 27\u001b[0m in \u001b[0;36m<cell line: 10>\u001b[1;34m()\u001b[0m\n\u001b[0;32m     <a href='vscode-notebook-cell:/c%3A/Users/simon/Projets/FindingMnemo/src/Exploration.ipynb#X31sZmlsZQ%3D%3D?line=9'>10</a>\u001b[0m \u001b[39mfor\u001b[39;00m i, (row, chinese_word) \u001b[39min\u001b[39;00m \u001b[39menumerate\u001b[39m(hsk_full\u001b[39m.\u001b[39miterrows()):\n\u001b[0;32m     <a href='vscode-notebook-cell:/c%3A/Users/simon/Projets/FindingMnemo/src/Exploration.ipynb#X31sZmlsZQ%3D%3D?line=10'>11</a>\u001b[0m     chinese_ipa \u001b[39m=\u001b[39m chinese_word[\u001b[39m'\u001b[39m\u001b[39mipa\u001b[39m\u001b[39m'\u001b[39m]\n\u001b[1;32m---> <a href='vscode-notebook-cell:/c%3A/Users/simon/Projets/FindingMnemo/src/Exploration.ipynb#X31sZmlsZQ%3D%3D?line=11'>12</a>\u001b[0m     distances \u001b[39m=\u001b[39m [dst\u001b[39m.\u001b[39mdolgo_prime_distance(chinese_ipa, english_ipa) \u001b[39mfor\u001b[39;00m english_ipa \u001b[39min\u001b[39;00m tqdm(english_ipas, desc\u001b[39m=\u001b[39m\u001b[39m'\u001b[39m\u001b[39mFinding closest word for \u001b[39m\u001b[39m{}\u001b[39;00m\u001b[39m'\u001b[39m\u001b[39m.\u001b[39mformat(chinese_word[\u001b[39m'\u001b[39m\u001b[39mpinyin\u001b[39m\u001b[39m'\u001b[39m]))]\n\u001b[0;32m     <a href='vscode-notebook-cell:/c%3A/Users/simon/Projets/FindingMnemo/src/Exploration.ipynb#X31sZmlsZQ%3D%3D?line=13'>14</a>\u001b[0m     best_pair \u001b[39m=\u001b[39m {\n\u001b[0;32m     <a href='vscode-notebook-cell:/c%3A/Users/simon/Projets/FindingMnemo/src/Exploration.ipynb#X31sZmlsZQ%3D%3D?line=14'>15</a>\u001b[0m         \u001b[39m'\u001b[39m\u001b[39mchinese_word\u001b[39m\u001b[39m'\u001b[39m: chinese_word[\u001b[39m'\u001b[39m\u001b[39mhanzi\u001b[39m\u001b[39m'\u001b[39m],\n\u001b[0;32m     <a href='vscode-notebook-cell:/c%3A/Users/simon/Projets/FindingMnemo/src/Exploration.ipynb#X31sZmlsZQ%3D%3D?line=15'>16</a>\u001b[0m         \u001b[39m'\u001b[39m\u001b[39menglish_word\u001b[39m\u001b[39m'\u001b[39m: english_words[np\u001b[39m.\u001b[39margmin(distances)],\n\u001b[0;32m     <a href='vscode-notebook-cell:/c%3A/Users/simon/Projets/FindingMnemo/src/Exploration.ipynb#X31sZmlsZQ%3D%3D?line=16'>17</a>\u001b[0m         \u001b[39m'\u001b[39m\u001b[39mdistance\u001b[39m\u001b[39m'\u001b[39m: np\u001b[39m.\u001b[39margmin(distances),\n\u001b[0;32m     <a href='vscode-notebook-cell:/c%3A/Users/simon/Projets/FindingMnemo/src/Exploration.ipynb#X31sZmlsZQ%3D%3D?line=17'>18</a>\u001b[0m     }\n\u001b[0;32m     <a href='vscode-notebook-cell:/c%3A/Users/simon/Projets/FindingMnemo/src/Exploration.ipynb#X31sZmlsZQ%3D%3D?line=19'>20</a>\u001b[0m     worst_pair \u001b[39m=\u001b[39m {\n\u001b[0;32m     <a href='vscode-notebook-cell:/c%3A/Users/simon/Projets/FindingMnemo/src/Exploration.ipynb#X31sZmlsZQ%3D%3D?line=20'>21</a>\u001b[0m         \u001b[39m'\u001b[39m\u001b[39mchinese_word\u001b[39m\u001b[39m'\u001b[39m: chinese_word[\u001b[39m'\u001b[39m\u001b[39mhanzi\u001b[39m\u001b[39m'\u001b[39m],\n\u001b[0;32m     <a href='vscode-notebook-cell:/c%3A/Users/simon/Projets/FindingMnemo/src/Exploration.ipynb#X31sZmlsZQ%3D%3D?line=21'>22</a>\u001b[0m         \u001b[39m'\u001b[39m\u001b[39menglish_word\u001b[39m\u001b[39m'\u001b[39m: english_words[np\u001b[39m.\u001b[39margmax(distances)],\n\u001b[0;32m     <a href='vscode-notebook-cell:/c%3A/Users/simon/Projets/FindingMnemo/src/Exploration.ipynb#X31sZmlsZQ%3D%3D?line=22'>23</a>\u001b[0m         \u001b[39m'\u001b[39m\u001b[39mdistance\u001b[39m\u001b[39m'\u001b[39m: np\u001b[39m.\u001b[39margmax(distances),\n\u001b[0;32m     <a href='vscode-notebook-cell:/c%3A/Users/simon/Projets/FindingMnemo/src/Exploration.ipynb#X31sZmlsZQ%3D%3D?line=23'>24</a>\u001b[0m     }\n",
      "\u001b[1;32mc:\\Users\\simon\\Projets\\FindingMnemo\\src\\Exploration.ipynb Cellule 27\u001b[0m in \u001b[0;36m<listcomp>\u001b[1;34m(.0)\u001b[0m\n\u001b[0;32m     <a href='vscode-notebook-cell:/c%3A/Users/simon/Projets/FindingMnemo/src/Exploration.ipynb#X31sZmlsZQ%3D%3D?line=9'>10</a>\u001b[0m \u001b[39mfor\u001b[39;00m i, (row, chinese_word) \u001b[39min\u001b[39;00m \u001b[39menumerate\u001b[39m(hsk_full\u001b[39m.\u001b[39miterrows()):\n\u001b[0;32m     <a href='vscode-notebook-cell:/c%3A/Users/simon/Projets/FindingMnemo/src/Exploration.ipynb#X31sZmlsZQ%3D%3D?line=10'>11</a>\u001b[0m     chinese_ipa \u001b[39m=\u001b[39m chinese_word[\u001b[39m'\u001b[39m\u001b[39mipa\u001b[39m\u001b[39m'\u001b[39m]\n\u001b[1;32m---> <a href='vscode-notebook-cell:/c%3A/Users/simon/Projets/FindingMnemo/src/Exploration.ipynb#X31sZmlsZQ%3D%3D?line=11'>12</a>\u001b[0m     distances \u001b[39m=\u001b[39m [dst\u001b[39m.\u001b[39mdolgo_prime_distance(chinese_ipa, english_ipa) \u001b[39mfor\u001b[39;00m english_ipa \u001b[39min\u001b[39;00m tqdm(english_ipas, desc\u001b[39m=\u001b[39m\u001b[39m'\u001b[39m\u001b[39mFinding closest word for \u001b[39m\u001b[39m{}\u001b[39;00m\u001b[39m'\u001b[39m\u001b[39m.\u001b[39mformat(chinese_word[\u001b[39m'\u001b[39m\u001b[39mpinyin\u001b[39m\u001b[39m'\u001b[39m]))]\n\u001b[0;32m     <a href='vscode-notebook-cell:/c%3A/Users/simon/Projets/FindingMnemo/src/Exploration.ipynb#X31sZmlsZQ%3D%3D?line=13'>14</a>\u001b[0m     best_pair \u001b[39m=\u001b[39m {\n\u001b[0;32m     <a href='vscode-notebook-cell:/c%3A/Users/simon/Projets/FindingMnemo/src/Exploration.ipynb#X31sZmlsZQ%3D%3D?line=14'>15</a>\u001b[0m         \u001b[39m'\u001b[39m\u001b[39mchinese_word\u001b[39m\u001b[39m'\u001b[39m: chinese_word[\u001b[39m'\u001b[39m\u001b[39mhanzi\u001b[39m\u001b[39m'\u001b[39m],\n\u001b[0;32m     <a href='vscode-notebook-cell:/c%3A/Users/simon/Projets/FindingMnemo/src/Exploration.ipynb#X31sZmlsZQ%3D%3D?line=15'>16</a>\u001b[0m         \u001b[39m'\u001b[39m\u001b[39menglish_word\u001b[39m\u001b[39m'\u001b[39m: english_words[np\u001b[39m.\u001b[39margmin(distances)],\n\u001b[0;32m     <a href='vscode-notebook-cell:/c%3A/Users/simon/Projets/FindingMnemo/src/Exploration.ipynb#X31sZmlsZQ%3D%3D?line=16'>17</a>\u001b[0m         \u001b[39m'\u001b[39m\u001b[39mdistance\u001b[39m\u001b[39m'\u001b[39m: np\u001b[39m.\u001b[39margmin(distances),\n\u001b[0;32m     <a href='vscode-notebook-cell:/c%3A/Users/simon/Projets/FindingMnemo/src/Exploration.ipynb#X31sZmlsZQ%3D%3D?line=17'>18</a>\u001b[0m     }\n\u001b[0;32m     <a href='vscode-notebook-cell:/c%3A/Users/simon/Projets/FindingMnemo/src/Exploration.ipynb#X31sZmlsZQ%3D%3D?line=19'>20</a>\u001b[0m     worst_pair \u001b[39m=\u001b[39m {\n\u001b[0;32m     <a href='vscode-notebook-cell:/c%3A/Users/simon/Projets/FindingMnemo/src/Exploration.ipynb#X31sZmlsZQ%3D%3D?line=20'>21</a>\u001b[0m         \u001b[39m'\u001b[39m\u001b[39mchinese_word\u001b[39m\u001b[39m'\u001b[39m: chinese_word[\u001b[39m'\u001b[39m\u001b[39mhanzi\u001b[39m\u001b[39m'\u001b[39m],\n\u001b[0;32m     <a href='vscode-notebook-cell:/c%3A/Users/simon/Projets/FindingMnemo/src/Exploration.ipynb#X31sZmlsZQ%3D%3D?line=21'>22</a>\u001b[0m         \u001b[39m'\u001b[39m\u001b[39menglish_word\u001b[39m\u001b[39m'\u001b[39m: english_words[np\u001b[39m.\u001b[39margmax(distances)],\n\u001b[0;32m     <a href='vscode-notebook-cell:/c%3A/Users/simon/Projets/FindingMnemo/src/Exploration.ipynb#X31sZmlsZQ%3D%3D?line=22'>23</a>\u001b[0m         \u001b[39m'\u001b[39m\u001b[39mdistance\u001b[39m\u001b[39m'\u001b[39m: np\u001b[39m.\u001b[39margmax(distances),\n\u001b[0;32m     <a href='vscode-notebook-cell:/c%3A/Users/simon/Projets/FindingMnemo/src/Exploration.ipynb#X31sZmlsZQ%3D%3D?line=23'>24</a>\u001b[0m     }\n",
      "File \u001b[1;32mc:\\Users\\simon\\anaconda3\\envs\\Mnemo\\lib\\site-packages\\tqdm\\std.py:1210\u001b[0m, in \u001b[0;36mtqdm.__iter__\u001b[1;34m(self)\u001b[0m\n\u001b[0;32m   1208\u001b[0m \u001b[39mfinally\u001b[39;00m:\n\u001b[0;32m   1209\u001b[0m     \u001b[39mself\u001b[39m\u001b[39m.\u001b[39mn \u001b[39m=\u001b[39m n\n\u001b[1;32m-> 1210\u001b[0m     \u001b[39mself\u001b[39;49m\u001b[39m.\u001b[39;49mclose()\n",
      "File \u001b[1;32mc:\\Users\\simon\\anaconda3\\envs\\Mnemo\\lib\\site-packages\\tqdm\\std.py:1316\u001b[0m, in \u001b[0;36mtqdm.close\u001b[1;34m(self)\u001b[0m\n\u001b[0;32m   1313\u001b[0m \u001b[39mif\u001b[39;00m leave:\n\u001b[0;32m   1314\u001b[0m     \u001b[39m# stats for overall rate (no weighted average)\u001b[39;00m\n\u001b[0;32m   1315\u001b[0m     \u001b[39mself\u001b[39m\u001b[39m.\u001b[39m_ema_dt \u001b[39m=\u001b[39m \u001b[39mlambda\u001b[39;00m: \u001b[39mNone\u001b[39;00m\n\u001b[1;32m-> 1316\u001b[0m     \u001b[39mself\u001b[39;49m\u001b[39m.\u001b[39;49mdisplay(pos\u001b[39m=\u001b[39;49m\u001b[39m0\u001b[39;49m)\n\u001b[0;32m   1317\u001b[0m     fp_write(\u001b[39m'\u001b[39m\u001b[39m\\n\u001b[39;00m\u001b[39m'\u001b[39m)\n\u001b[0;32m   1318\u001b[0m \u001b[39melse\u001b[39;00m:\n\u001b[0;32m   1319\u001b[0m     \u001b[39m# clear previous display\u001b[39;00m\n",
      "File \u001b[1;32mc:\\Users\\simon\\anaconda3\\envs\\Mnemo\\lib\\site-packages\\tqdm\\std.py:1509\u001b[0m, in \u001b[0;36mtqdm.display\u001b[1;34m(self, msg, pos)\u001b[0m\n\u001b[0;32m   1507\u001b[0m \u001b[39mif\u001b[39;00m pos:\n\u001b[0;32m   1508\u001b[0m     \u001b[39mself\u001b[39m\u001b[39m.\u001b[39mmoveto(pos)\n\u001b[1;32m-> 1509\u001b[0m \u001b[39mself\u001b[39;49m\u001b[39m.\u001b[39;49msp(\u001b[39mself\u001b[39;49m\u001b[39m.\u001b[39;49m\u001b[39m__str__\u001b[39;49m() \u001b[39mif\u001b[39;49;00m msg \u001b[39mis\u001b[39;49;00m \u001b[39mNone\u001b[39;49;00m \u001b[39melse\u001b[39;49;00m msg)\n\u001b[0;32m   1510\u001b[0m \u001b[39mif\u001b[39;00m pos:\n\u001b[0;32m   1511\u001b[0m     \u001b[39mself\u001b[39m\u001b[39m.\u001b[39mmoveto(\u001b[39m-\u001b[39mpos)\n",
      "File \u001b[1;32mc:\\Users\\simon\\anaconda3\\envs\\Mnemo\\lib\\site-packages\\tqdm\\std.py:350\u001b[0m, in \u001b[0;36mtqdm.status_printer.<locals>.print_status\u001b[1;34m(s)\u001b[0m\n\u001b[0;32m    348\u001b[0m \u001b[39mdef\u001b[39;00m \u001b[39mprint_status\u001b[39m(s):\n\u001b[0;32m    349\u001b[0m     len_s \u001b[39m=\u001b[39m disp_len(s)\n\u001b[1;32m--> 350\u001b[0m     fp_write(\u001b[39m'\u001b[39;49m\u001b[39m\\r\u001b[39;49;00m\u001b[39m'\u001b[39;49m \u001b[39m+\u001b[39;49m s \u001b[39m+\u001b[39;49m (\u001b[39m'\u001b[39;49m\u001b[39m \u001b[39;49m\u001b[39m'\u001b[39;49m \u001b[39m*\u001b[39;49m \u001b[39mmax\u001b[39;49m(last_len[\u001b[39m0\u001b[39;49m] \u001b[39m-\u001b[39;49m len_s, \u001b[39m0\u001b[39;49m)))\n\u001b[0;32m    351\u001b[0m     last_len[\u001b[39m0\u001b[39m] \u001b[39m=\u001b[39m len_s\n",
      "File \u001b[1;32mc:\\Users\\simon\\anaconda3\\envs\\Mnemo\\lib\\site-packages\\tqdm\\std.py:344\u001b[0m, in \u001b[0;36mtqdm.status_printer.<locals>.fp_write\u001b[1;34m(s)\u001b[0m\n\u001b[0;32m    342\u001b[0m \u001b[39mdef\u001b[39;00m \u001b[39mfp_write\u001b[39m(s):\n\u001b[0;32m    343\u001b[0m     fp\u001b[39m.\u001b[39mwrite(_unicode(s))\n\u001b[1;32m--> 344\u001b[0m     fp_flush()\n",
      "File \u001b[1;32mc:\\Users\\simon\\anaconda3\\envs\\Mnemo\\lib\\site-packages\\tqdm\\utils.py:145\u001b[0m, in \u001b[0;36mDisableOnWriteError.disable_on_exception.<locals>.inner\u001b[1;34m(*args, **kwargs)\u001b[0m\n\u001b[0;32m    143\u001b[0m \u001b[39mdef\u001b[39;00m \u001b[39minner\u001b[39m(\u001b[39m*\u001b[39margs, \u001b[39m*\u001b[39m\u001b[39m*\u001b[39mkwargs):\n\u001b[0;32m    144\u001b[0m     \u001b[39mtry\u001b[39;00m:\n\u001b[1;32m--> 145\u001b[0m         \u001b[39mreturn\u001b[39;00m func(\u001b[39m*\u001b[39;49margs, \u001b[39m*\u001b[39;49m\u001b[39m*\u001b[39;49mkwargs)\n\u001b[0;32m    146\u001b[0m     \u001b[39mexcept\u001b[39;00m \u001b[39mOSError\u001b[39;00m \u001b[39mas\u001b[39;00m e:\n\u001b[0;32m    147\u001b[0m         \u001b[39mif\u001b[39;00m e\u001b[39m.\u001b[39merrno \u001b[39m!=\u001b[39m \u001b[39m5\u001b[39m:\n",
      "File \u001b[1;32mc:\\Users\\simon\\anaconda3\\envs\\Mnemo\\lib\\site-packages\\ipykernel\\iostream.py:487\u001b[0m, in \u001b[0;36mOutStream.flush\u001b[1;34m(self)\u001b[0m\n\u001b[0;32m    485\u001b[0m     \u001b[39mself\u001b[39m\u001b[39m.\u001b[39mpub_thread\u001b[39m.\u001b[39mschedule(evt\u001b[39m.\u001b[39mset)\n\u001b[0;32m    486\u001b[0m     \u001b[39m# and give a timeout to avoid\u001b[39;00m\n\u001b[1;32m--> 487\u001b[0m     \u001b[39mif\u001b[39;00m \u001b[39mnot\u001b[39;00m evt\u001b[39m.\u001b[39;49mwait(\u001b[39mself\u001b[39;49m\u001b[39m.\u001b[39;49mflush_timeout):\n\u001b[0;32m    488\u001b[0m         \u001b[39m# write directly to __stderr__ instead of warning because\u001b[39;00m\n\u001b[0;32m    489\u001b[0m         \u001b[39m# if this is happening sys.stderr may be the problem.\u001b[39;00m\n\u001b[0;32m    490\u001b[0m         \u001b[39mprint\u001b[39m(\u001b[39m\"\u001b[39m\u001b[39mIOStream.flush timed out\u001b[39m\u001b[39m\"\u001b[39m, file\u001b[39m=\u001b[39msys\u001b[39m.\u001b[39m__stderr__)\n\u001b[0;32m    491\u001b[0m \u001b[39melse\u001b[39;00m:\n",
      "File \u001b[1;32mc:\\Users\\simon\\anaconda3\\envs\\Mnemo\\lib\\threading.py:558\u001b[0m, in \u001b[0;36mEvent.wait\u001b[1;34m(self, timeout)\u001b[0m\n\u001b[0;32m    556\u001b[0m signaled \u001b[39m=\u001b[39m \u001b[39mself\u001b[39m\u001b[39m.\u001b[39m_flag\n\u001b[0;32m    557\u001b[0m \u001b[39mif\u001b[39;00m \u001b[39mnot\u001b[39;00m signaled:\n\u001b[1;32m--> 558\u001b[0m     signaled \u001b[39m=\u001b[39m \u001b[39mself\u001b[39;49m\u001b[39m.\u001b[39;49m_cond\u001b[39m.\u001b[39;49mwait(timeout)\n\u001b[0;32m    559\u001b[0m \u001b[39mreturn\u001b[39;00m signaled\n",
      "File \u001b[1;32mc:\\Users\\simon\\anaconda3\\envs\\Mnemo\\lib\\threading.py:306\u001b[0m, in \u001b[0;36mCondition.wait\u001b[1;34m(self, timeout)\u001b[0m\n\u001b[0;32m    304\u001b[0m \u001b[39melse\u001b[39;00m:\n\u001b[0;32m    305\u001b[0m     \u001b[39mif\u001b[39;00m timeout \u001b[39m>\u001b[39m \u001b[39m0\u001b[39m:\n\u001b[1;32m--> 306\u001b[0m         gotit \u001b[39m=\u001b[39m waiter\u001b[39m.\u001b[39;49macquire(\u001b[39mTrue\u001b[39;49;00m, timeout)\n\u001b[0;32m    307\u001b[0m     \u001b[39melse\u001b[39;00m:\n\u001b[0;32m    308\u001b[0m         gotit \u001b[39m=\u001b[39m waiter\u001b[39m.\u001b[39macquire(\u001b[39mFalse\u001b[39;00m)\n",
      "\u001b[1;31mKeyboardInterrupt\u001b[0m: "
     ]
    }
   ],
   "source": [
    "english_corpus = english_corpus[english_corpus['valid_ipa'] == True]\n",
    "hsk_full = hsk_full.dropna(subset='ipa')\n",
    "\n",
    "english_ipas = english_corpus['ipa'].to_list()\n",
    "english_words = english_corpus['word'].to_list()\n",
    "\n",
    "best_pairs = []\n",
    "worst_pairs = []\n",
    "\n",
    "for i, (row, chinese_word) in enumerate(hsk_full.iterrows()):\n",
    "    chinese_ipa = chinese_word['ipa']\n",
    "    distances = [dst.dolgo_prime_distance(chinese_ipa, english_ipa) for english_ipa in tqdm(english_ipas, desc='Finding closest word for {}'.format(chinese_word['pinyin']))]\n",
    "    \n",
    "    best_pair = {\n",
    "        'chinese_word': chinese_word['hanzi'],\n",
    "        'english_word': english_words[np.argmin(distances)],\n",
    "        'distance': np.argmin(distances),\n",
    "    }\n",
    "\n",
    "    worst_pair = {\n",
    "        'chinese_word': chinese_word['hanzi'],\n",
    "        'chinese_word': chinese_word['hanzi'],\n",
    "        'english_word': english_words[np.argmax(distances)],\n",
    "        'distance': np.argmax(distances),\n",
    "    }\n",
    "\n",
    "    best_pairs.append(best_pair)\n",
    "    worst_pairs.append(worst_pair)\n",
    "\n",
    "    if i % 10 == 0:\n",
    "        pd.DataFrame(best_pairs).to_csv('../data/best_pairs.csv')\n",
    "        pd.DataFrame(worst_pairs).to_csv('../data/worst_pairs.csv')"
   ]
  }
 ],
 "metadata": {
  "kernelspec": {
   "display_name": "Python 3.8.13 ('Mnemo')",
   "language": "python",
   "name": "python3"
  },
  "language_info": {
   "codemirror_mode": {
    "name": "ipython",
    "version": 3
   },
   "file_extension": ".py",
   "mimetype": "text/x-python",
   "name": "python",
   "nbconvert_exporter": "python",
   "pygments_lexer": "ipython3",
   "version": "3.8.13"
  },
  "orig_nbformat": 4,
  "vscode": {
   "interpreter": {
    "hash": "c63c281c357b721eb5810737697a4fec9eb8e3f56d74ad45c3d533883ba81129"
   }
  }
 },
 "nbformat": 4,
 "nbformat_minor": 2
}

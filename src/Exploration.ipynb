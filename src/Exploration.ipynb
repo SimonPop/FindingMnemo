{
 "cells": [
  {
   "cell_type": "code",
   "execution_count": 1,
   "metadata": {},
   "outputs": [],
   "source": [
    "from dragonmapper import hanzi\n",
    "from dragonmapper import transcriptions\n",
    "import eng_to_ipa as ipa"
   ]
  },
  {
   "cell_type": "code",
   "execution_count": 26,
   "metadata": {},
   "outputs": [
    {
     "data": {
      "text/plain": [
       "'feɪ˥ tɕi˥'"
      ]
     },
     "execution_count": 26,
     "metadata": {},
     "output_type": "execute_result"
    }
   ],
   "source": [
    "s = 'fēijī' # 'féidà'\n",
    "transcriptions.pinyin_to_ipa(s)\n",
    "ipa.convert(\"potato\")"
   ]
  },
  {
   "cell_type": "code",
   "execution_count": 27,
   "metadata": {},
   "outputs": [],
   "source": [
    "w1 = u'feɪ˧˥ ta˥'\n",
    "w2 = u'feta*'\n",
    "w3 = u'pəˈteɪˌtoʊ'\n",
    "w4 = u'feɪ˥ tɕi˥'"
   ]
  },
  {
   "cell_type": "code",
   "execution_count": 28,
   "metadata": {},
   "outputs": [
    {
     "name": "stdout",
     "output_type": "stream",
     "text": [
      "feɪ˧˥ ta˥ feta* 1\n",
      "feɪ˧˥ ta˥ pəˈteɪˌtoʊ 3\n",
      "pəˈteɪˌtoʊ feta* 4\n",
      "feɪ˥ tɕi˥ feɪ˧˥ ta˥ 1\n",
      "feɪ˥ tɕi˥ feta* 2\n",
      "feɪ˥ tɕi˥ pəˈteɪˌtoʊ 3\n"
     ]
    }
   ],
   "source": [
    "import panphon.distance\n",
    "dst = panphon.distance.Distance()\n",
    "print(w1, w2, dst.dolgo_prime_distance(w1, w2))\n",
    "print(w1, w3, dst.dolgo_prime_distance(w1, w3))\n",
    "print(w3, w2, dst.dolgo_prime_distance(w3, w2))\n",
    "print(w4, w1, dst.dolgo_prime_distance(w4, w1))\n",
    "print(w4, w2, dst.dolgo_prime_distance(w4, w2))\n",
    "print(w4, w3, dst.dolgo_prime_distance(w4, w3))\n"
   ]
  },
  {
   "cell_type": "code",
   "execution_count": 1,
   "metadata": {},
   "outputs": [],
   "source": [
    "from WordGraph import WordGraph\n",
    "with open(\"../sherlock.txt\") as f:\n",
    "    text = f.read()\n",
    "wg = WordGraph(corpus=text, state_size=2)"
   ]
  },
  {
   "cell_type": "code",
   "execution_count": 6,
   "metadata": {},
   "outputs": [
    {
     "name": "stderr",
     "output_type": "stream",
     "text": [
      "100%|██████████| 933/933 [00:00<00:00, 1296.51it/s]\n"
     ]
    },
    {
     "data": {
      "text/plain": [
       "'very'"
      ]
     },
     "execution_count": 6,
     "metadata": {},
     "output_type": "execute_result"
    }
   ],
   "source": [
    "wg.find_closest_word('Pigu')"
   ]
  },
  {
   "cell_type": "code",
   "execution_count": 3,
   "metadata": {},
   "outputs": [
    {
     "name": "stderr",
     "output_type": "stream",
     "text": [
      "451it [00:00, 50250.53it/s]\n"
     ]
    },
    {
     "data": {
      "text/plain": [
       "[('___BEGIN__', '___BEGIN__'),\n",
       " ('___BEGIN__', 'I'),\n",
       " ('I', 'thought'),\n",
       " ('thought', 'it'),\n",
       " ('it', 'as'),\n",
       " ('as', 'well'),\n",
       " ('well', 'to'),\n",
       " ('to', 'have'),\n",
       " ('have', 'done'),\n",
       " ('done', 'the'),\n",
       " ('the', 'thing'),\n",
       " ('thing', 'very'),\n",
       " ('very', 'completely.'),\n",
       " '__END__']"
      ]
     },
     "execution_count": 3,
     "metadata": {},
     "output_type": "execute_result"
    }
   ],
   "source": [
    "wg.find_path(['very', 'well'])"
   ]
  },
  {
   "cell_type": "markdown",
   "metadata": {},
   "source": [
    "# Steps:\n",
    "\n",
    "0. Create markov chain model\n",
    "0b. Extract graph from markov chain model\n",
    "1. Get word to translate.\n",
    "2. Translate word.\n",
    "3. Get keys of the word / Get similar sounding word.\n",
    "4. Find path shortes path that does through different words.\n",
    "5. Create image based on text."
   ]
  },
  {
   "cell_type": "code",
   "execution_count": null,
   "metadata": {},
   "outputs": [],
   "source": []
  },
  {
   "cell_type": "code",
   "execution_count": null,
   "metadata": {},
   "outputs": [],
   "source": []
  },
  {
   "cell_type": "code",
   "execution_count": 14,
   "metadata": {},
   "outputs": [
    {
     "data": {
      "text/plain": [
       "array([[-1, -1,  1],\n",
       "       [ 1,  1,  1],\n",
       "       [-1, -1, -1],\n",
       "       [ 1,  1,  1]])"
      ]
     },
     "execution_count": 14,
     "metadata": {},
     "output_type": "execute_result"
    }
   ],
   "source": [
    "import panphon\n",
    "import numpy as np\n",
    "ft = panphon.FeatureTable()\n",
    "\n",
    "ft.word_array(['syl', 'son', 'cont'], u'feta*')\n",
    "ft.word_array(['syl', 'son', 'cont'], u'feɪ˧˥ ta˥')\n",
    "np.array(ft.word_to_vector_list(u'feta*', numeric=True))\n",
    "np.array(ft.word_to_vector_list(u'feɪ˧˥ ta˥˩', numeric=True))"
   ]
  }
 ],
 "metadata": {
  "kernelspec": {
   "display_name": "Python 3.8.13 ('Mnemo')",
   "language": "python",
   "name": "python3"
  },
  "language_info": {
   "codemirror_mode": {
    "name": "ipython",
    "version": 3
   },
   "file_extension": ".py",
   "mimetype": "text/x-python",
   "name": "python",
   "nbconvert_exporter": "python",
   "pygments_lexer": "ipython3",
   "version": "3.8.13"
  },
  "orig_nbformat": 4,
  "vscode": {
   "interpreter": {
    "hash": "c63c281c357b721eb5810737697a4fec9eb8e3f56d74ad45c3d533883ba81129"
   }
  }
 },
 "nbformat": 4,
 "nbformat_minor": 2
}

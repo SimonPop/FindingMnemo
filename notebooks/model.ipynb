{
 "cells": [
  {
   "cell_type": "code",
   "execution_count": 1,
   "metadata": {},
   "outputs": [
    {
     "name": "stderr",
     "output_type": "stream",
     "text": [
      "c:\\Users\\simon\\anaconda3\\envs\\Mnemo\\lib\\site-packages\\tqdm\\auto.py:22: TqdmWarning: IProgress not found. Please update jupyter and ipywidgets. See https://ipywidgets.readthedocs.io/en/stable/user_install.html\n",
      "  from .autonotebook import tqdm as notebook_tqdm\n",
      "Global seed set to 0\n"
     ]
    },
    {
     "data": {
      "text/plain": [
       "0"
      ]
     },
     "execution_count": 1,
     "metadata": {},
     "output_type": "execute_result"
    }
   ],
   "source": [
    "from src.dataset.phonetic_pair_dataset_v2 import PhoneticPairDataset\n",
    "from src.model.sound_siamese_v2 import SoundSiamese\n",
    "from pytorch_lightning.loggers import MLFlowLogger\n",
    "from pytorch_lightning.utilities.seed import seed_everything\n",
    "\n",
    "import torch\n",
    "from torch.utils.data import DataLoader\n",
    "from pytorch_lightning import Trainer \n",
    "from pytorch_lightning.callbacks.early_stopping import EarlyStopping\n",
    "\n",
    "from typing import List\n",
    "from eng_to_ipa import convert\n",
    "\n",
    "seed_everything(0)"
   ]
  },
  {
   "cell_type": "markdown",
   "metadata": {},
   "source": [
    "# Model Training"
   ]
  },
  {
   "cell_type": "code",
   "execution_count": 3,
   "metadata": {},
   "outputs": [
    {
     "name": "stderr",
     "output_type": "stream",
     "text": [
      "GPU available: False, used: False\n",
      "TPU available: False, using: 0 TPU cores\n",
      "IPU available: False, using: 0 IPUs\n",
      "HPU available: False, using: 0 HPUs\n",
      "\n",
      "  | Name               | Type                    | Params\n",
      "---------------------------------------------------------------\n",
      "0 | embedding          | Embedding               | 9.4 K \n",
      "1 | encoder            | TransformerEncoderLayer | 1.7 K \n",
      "2 | cos                | CosineSimilarity        | 0     \n",
      "3 | p_enc_1d_model     | PositionalEncoding1D    | 0     \n",
      "4 | p_enc_1d_model_sum | Summer                  | 0     \n",
      "---------------------------------------------------------------\n",
      "11.1 K    Trainable params\n",
      "0         Non-trainable params\n",
      "11.1 K    Total params\n",
      "0.044     Total estimated model params size (MB)\n"
     ]
    },
    {
     "name": "stdout",
     "output_type": "stream",
     "text": [
      "Epoch 9: 100%|██████████| 300/300 [00:19<00:00, 15.30it/s, loss=0.0719, v_num=c774, validation_loss=0.104, training_loss=0.0771] \n"
     ]
    }
   ],
   "source": [
    "mlf_logger = MLFlowLogger(experiment_name=\"lightning_logs\", tracking_uri=\"file:./mlruns\")\n",
    "\n",
    "# Dataset preparation\n",
    "dataset = PhoneticPairDataset(best_pairs_path='best_pairs.csv', worst_pairs_path='worst_pairs.csv')\n",
    "train_set, val_set = torch.utils.data.random_split(dataset, [len(dataset) - 100, 100])\n",
    "\n",
    "train_dataloader = DataLoader(train_set, batch_size=4, shuffle=True, num_workers=4)\n",
    "validation_dataloader = DataLoader(val_set, batch_size=4, num_workers=4)\n",
    "trainer = Trainer(\n",
    "    max_epochs=10, \n",
    "    logger=mlf_logger, \n",
    "    # callbacks=[EarlyStopping(monitor=\"validation_loss\", mode=\"min\")]\n",
    "    )\n",
    "\n",
    "# Model training\n",
    "model = SoundSiamese(\n",
    "    embedding_dim= 16, \n",
    "    dropout = 0\n",
    ")\n",
    "trainer.fit(model, train_dataloader, validation_dataloader)"
   ]
  },
  {
   "cell_type": "markdown",
   "metadata": {},
   "source": [
    "# Saving model"
   ]
  },
  {
   "cell_type": "code",
   "execution_count": 4,
   "metadata": {},
   "outputs": [],
   "source": [
    "import torch\n",
    "from pathlib import Path\n",
    "\n",
    "torch.save(model.state_dict(), \"model_dict\")"
   ]
  },
  {
   "cell_type": "markdown",
   "metadata": {},
   "source": [
    "# Visualization"
   ]
  },
  {
   "cell_type": "code",
   "execution_count": null,
   "metadata": {},
   "outputs": [],
   "source": [
    "import umap\n",
    "import matplotlib.pyplot as plt\n",
    "import numpy as np\n",
    "reducer = umap.UMAP()"
   ]
  },
  {
   "cell_type": "markdown",
   "metadata": {},
   "source": [
    "## Embedding visualization"
   ]
  },
  {
   "cell_type": "code",
   "execution_count": null,
   "metadata": {},
   "outputs": [],
   "source": [
    "embedding_w = model.embedding.weight.detach().numpy()\n",
    "embedding_u = reducer.fit_transform(embedding_w)\n",
    "\n",
    "plt.scatter(\n",
    "    embedding_u[:, 0],\n",
    "    embedding_u[:, 1]\n",
    ")\n",
    "plt.gca().set_aspect('equal', 'datalim')\n",
    "plt.title('UMAP projection of the Embeddings', fontsize=24)"
   ]
  },
  {
   "cell_type": "markdown",
   "metadata": {},
   "source": [
    "## Encoding viusalization"
   ]
  },
  {
   "cell_type": "code",
   "execution_count": null,
   "metadata": {},
   "outputs": [],
   "source": [
    "viz_dataloader = DataLoader(dataset, batch_size=1, shuffle=False)\n",
    "embedding_w = np.array([x.detach().numpy() for x in model.encode([x['english_phonetic'][0] for x in iter(viz_dataloader)])])\n",
    "\n",
    "embedding_u = reducer.fit_transform(embedding_w)\n",
    "\n",
    "plt.scatter(\n",
    "    embedding_u[:, 0],\n",
    "    embedding_u[:, 1]\n",
    ")\n",
    "plt.gca().set_aspect('equal', 'datalim')\n",
    "plt.title('UMAP projection of the Word Encodings', fontsize=24)"
   ]
  },
  {
   "cell_type": "markdown",
   "metadata": {},
   "source": [
    "# Inference"
   ]
  },
  {
   "cell_type": "code",
   "execution_count": null,
   "metadata": {},
   "outputs": [],
   "source": [
    "def load_model():\n",
    "    model = SoundSiamese()\n",
    "    model.load_state_dict(torch.load(\"model_dict\"))\n",
    "\n",
    "def convert_eng_to_ipa(word: str):\n",
    "    return (\n",
    "        convert(word, keep_punct=False)\n",
    "        .replace(\"ˈ\", \"\")\n",
    "        .replace(\"ˌ\", \"\")\n",
    "        .replace(\" \", \"\")\n",
    "    )\n",
    "\n",
    "def encode_english(words: List[str]):\n",
    "    ipas = [convert_eng_to_ipa(w) for w in words]\n",
    "    return model.encode(ipas) "
   ]
  },
  {
   "cell_type": "code",
   "execution_count": null,
   "metadata": {},
   "outputs": [],
   "source": [
    "a, b, c, d, e = encode_english(['cat', 'dog',  'dodge', 'chat', 'god'])\n",
    "a, b, c, d, e"
   ]
  },
  {
   "cell_type": "code",
   "execution_count": null,
   "metadata": {},
   "outputs": [],
   "source": [
    "print('a x b', model.cos(a.view(1,-1), b.view(1,-1)))\n",
    "print('b x c', model.cos(b.view(1,-1), c.view(1,-1)))\n",
    "print('a x d', model.cos(a.view(1,-1), d.view(1,-1)))\n",
    "print('b x d', model.cos(b.view(1,-1), d.view(1,-1)))"
   ]
  },
  {
   "cell_type": "code",
   "execution_count": null,
   "metadata": {},
   "outputs": [],
   "source": []
  }
 ],
 "metadata": {
  "kernelspec": {
   "display_name": "Python 3.8.13 ('Mnemo')",
   "language": "python",
   "name": "python3"
  },
  "language_info": {
   "codemirror_mode": {
    "name": "ipython",
    "version": 3
   },
   "file_extension": ".py",
   "mimetype": "text/x-python",
   "name": "python",
   "nbconvert_exporter": "python",
   "pygments_lexer": "ipython3",
   "version": "3.8.13"
  },
  "orig_nbformat": 4,
  "vscode": {
   "interpreter": {
    "hash": "c63c281c357b721eb5810737697a4fec9eb8e3f56d74ad45c3d533883ba81129"
   }
  }
 },
 "nbformat": 4,
 "nbformat_minor": 2
}

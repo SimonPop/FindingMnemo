{
 "cells": [
  {
   "cell_type": "code",
   "execution_count": 1,
   "metadata": {},
   "outputs": [
    {
     "name": "stderr",
     "output_type": "stream",
     "text": [
      "c:\\Users\\simon\\anaconda3\\envs\\geometric\\lib\\site-packages\\tqdm\\auto.py:22: TqdmWarning: IProgress not found. Please update jupyter and ipywidgets. See https://ipywidgets.readthedocs.io/en/stable/user_install.html\n",
      "  from .autonotebook import tqdm as notebook_tqdm\n"
     ]
    }
   ],
   "source": [
    "from torch_geometric.datasets.word_net import WordNet18RR"
   ]
  },
  {
   "cell_type": "code",
   "execution_count": 3,
   "metadata": {},
   "outputs": [
    {
     "name": "stderr",
     "output_type": "stream",
     "text": [
      "Downloading https://raw.githubusercontent.com/villmow/datasets_knowledge_embedding/master/WN18RR/original/train.txt\n",
      "Downloading https://raw.githubusercontent.com/villmow/datasets_knowledge_embedding/master/WN18RR/original/valid.txt\n",
      "Downloading https://raw.githubusercontent.com/villmow/datasets_knowledge_embedding/master/WN18RR/original/test.txt\n",
      "Processing...\n",
      "Done!\n"
     ]
    }
   ],
   "source": [
    "dataset = WordNet18RR(root=\"/tmp/WordNetRR/\")"
   ]
  },
  {
   "cell_type": "code",
   "execution_count": 5,
   "metadata": {},
   "outputs": [],
   "source": [
    "data= dataset[0]\n",
    "\n",
    "from torch_geometric.utils.convert import to_networkx\n",
    "import networkx as nx\n",
    "\n",
    "graph = to_networkx(data)\n"
   ]
  },
  {
   "cell_type": "code",
   "execution_count": 18,
   "metadata": {},
   "outputs": [],
   "source": [
    "mask = data.train_mask\n",
    "indexes = [i for i, x in enumerate(mask) if x]\n",
    "subgraph = nx.Graph(nx.subgraph(graph, indexes))"
   ]
  },
  {
   "cell_type": "code",
   "execution_count": 45,
   "metadata": {},
   "outputs": [],
   "source": [
    "components = nx.connected_components(subgraph)\n",
    "component = list(next(components))\n",
    "component_graph = nx.subgraph(subgraph, component)"
   ]
  },
  {
   "cell_type": "code",
   "execution_count": 26,
   "metadata": {},
   "outputs": [],
   "source": []
  },
  {
   "cell_type": "code",
   "execution_count": 48,
   "metadata": {},
   "outputs": [],
   "source": [
    "import numpy as np\n",
    "X = np.random.choice(component, 10).tolist()"
   ]
  },
  {
   "cell_type": "code",
   "execution_count": 40,
   "metadata": {},
   "outputs": [],
   "source": [
    "# node2comp = {} # TODO: fill\n",
    "# for component in components:\n",
    "#     for node in component:\n",
    "#         node2comp[node] = component"
   ]
  },
  {
   "cell_type": "code",
   "execution_count": 51,
   "metadata": {},
   "outputs": [],
   "source": [
    "# Y = []\n",
    "# for x in X:\n",
    "#     # component = node2comp[x]\n",
    "#     y = np.random.choice(component, 10).tolist()\n",
    "#     Y.append(y)"
   ]
  },
  {
   "cell_type": "code",
   "execution_count": 54,
   "metadata": {},
   "outputs": [],
   "source": [
    "Y = np.random.choice(component, 10).tolist()"
   ]
  },
  {
   "cell_type": "code",
   "execution_count": 57,
   "metadata": {},
   "outputs": [
    {
     "data": {
      "text/plain": [
       "[7, 9, 7, 9, 9, 8, 9, 12, 5, 9]"
      ]
     },
     "execution_count": 57,
     "metadata": {},
     "output_type": "execute_result"
    }
   ],
   "source": [
    "[len(nx.shortest_path(subgraph, x, y)) for x, y in zip(X, Y)]"
   ]
  },
  {
   "cell_type": "code",
   "execution_count": null,
   "metadata": {},
   "outputs": [],
   "source": []
  },
  {
   "cell_type": "code",
   "execution_count": null,
   "metadata": {},
   "outputs": [],
   "source": []
  },
  {
   "cell_type": "code",
   "execution_count": null,
   "metadata": {},
   "outputs": [],
   "source": []
  },
  {
   "cell_type": "code",
   "execution_count": null,
   "metadata": {},
   "outputs": [],
   "source": []
  },
  {
   "cell_type": "code",
   "execution_count": 58,
   "metadata": {},
   "outputs": [],
   "source": [
    "def get_mode_index(data, mode):\n",
    "    if mode == \"train\":\n",
    "        mask = data.train_mask\n",
    "    elif mode == \"val\":\n",
    "        mask = data.val_mask\n",
    "    elif mode == \"test\":\n",
    "        mask = data.test_mask\n",
    "    else:\n",
    "        raise ValueError('Unknown mode. Please use mode in [train, val, test].')\n",
    "    return [i for i, x in enumerate(mask) if x]"
   ]
  },
  {
   "cell_type": "code",
   "execution_count": 78,
   "metadata": {},
   "outputs": [
    {
     "ename": "KeyError",
     "evalue": "59849",
     "output_type": "error",
     "traceback": [
      "\u001b[1;31m---------------------------------------------------------------------------\u001b[0m",
      "\u001b[1;31mKeyError\u001b[0m                                  Traceback (most recent call last)",
      "Cell \u001b[1;32mIn[78], line 28\u001b[0m\n\u001b[0;32m     26\u001b[0m Y \u001b[39m=\u001b[39m []\n\u001b[0;32m     27\u001b[0m \u001b[39mfor\u001b[39;00m x \u001b[39min\u001b[39;00m X:\n\u001b[1;32m---> 28\u001b[0m     component \u001b[39m=\u001b[39m node2pool[x] \u001b[39m# Select the same component as X to guarantee there exists a path.\u001b[39;00m\n\u001b[0;32m     29\u001b[0m     y \u001b[39m=\u001b[39m \u001b[39mint\u001b[39m(np\u001b[39m.\u001b[39mrandom\u001b[39m.\u001b[39mchoice(component))\n\u001b[0;32m     30\u001b[0m     Y\u001b[39m.\u001b[39mappend(y)\n",
      "\u001b[1;31mKeyError\u001b[0m: 59849"
     ]
    }
   ],
   "source": [
    "train_indexes = get_mode_index(data, \"train\")\n",
    "val_indexes = get_mode_index(data, \"val\")\n",
    "test_indexes = get_mode_index(data, \"test\")\n",
    "\n",
    "graph = nx.Graph(to_networkx(data)) \n",
    "components = nx.connected_components(graph)\n",
    "node2pool = {}\n",
    "for component in components:\n",
    "    componentxtrain = component.intersection(train_indexes) \n",
    "    componentxval = component.intersection(val_indexes) \n",
    "    componentxtest = component.intersection(test_indexes) \n",
    "    # Link node to a component x mask (only nodes of the same component with the same mask should be taken).\n",
    "    for node in component:\n",
    "        if node in train_indexes:\n",
    "            node2pool[node] = list(componentxtrain)\n",
    "        elif node in val_indexes:\n",
    "            node2pool[node] = list(componentxval)\n",
    "        elif node in test_indexes:\n",
    "            node2pool[node] = list(componentxtest)\n",
    "        else:\n",
    "            raise KeyError(\"?\")\n",
    "\n",
    "pairs = {}\n",
    "for mode, indexes in zip(['train', 'val', 'test'], [train_indexes, val_indexes, test_indexes]):            \n",
    "    X = np.random.choice(indexes, 100).tolist()\n",
    "    Y = []\n",
    "    for x in X:\n",
    "        component = node2pool[x] # Select the same component as X to guarantee there exists a path.\n",
    "        y = int(np.random.choice(component))\n",
    "        Y.append(y)\n",
    "    pairs[mode] = {\n",
    "        \"x\": X,\n",
    "        \"y\": Y,\n",
    "        \"distance\": [nx.shortest_path(graph, x, y) for x, y in zip(X, Y)]\n",
    "    }"
   ]
  },
  {
   "cell_type": "code",
   "execution_count": 91,
   "metadata": {},
   "outputs": [
    {
     "data": {
      "text/plain": [
       "Data(edge_index=[2, 93003], edge_type=[93003], train_mask=[93003], val_mask=[93003], test_mask=[93003], num_nodes=40943)"
      ]
     },
     "execution_count": 91,
     "metadata": {},
     "output_type": "execute_result"
    }
   ],
   "source": [
    "data"
   ]
  },
  {
   "cell_type": "code",
   "execution_count": 86,
   "metadata": {},
   "outputs": [
    {
     "name": "stdout",
     "output_type": "stream",
     "text": [
      "False\n",
      "False\n",
      "False\n",
      "False\n",
      "False\n",
      "False\n",
      "False\n",
      "False\n",
      "False\n",
      "False\n",
      "False\n",
      "False\n",
      "False\n"
     ]
    }
   ],
   "source": [
    "components = nx.connected_components(graph)\n",
    "for comp in components:\n",
    "    print(91850 in comp)"
   ]
  }
 ],
 "metadata": {
  "kernelspec": {
   "display_name": "geometric",
   "language": "python",
   "name": "python3"
  },
  "language_info": {
   "codemirror_mode": {
    "name": "ipython",
    "version": 3
   },
   "file_extension": ".py",
   "mimetype": "text/x-python",
   "name": "python",
   "nbconvert_exporter": "python",
   "pygments_lexer": "ipython3",
   "version": "3.8.15"
  },
  "orig_nbformat": 4,
  "vscode": {
   "interpreter": {
    "hash": "bce2850d3edd15649e80217fbd55dcd373df4e90b8ec4a1ddad38e9f78a7b499"
   }
  }
 },
 "nbformat": 4,
 "nbformat_minor": 2
}
